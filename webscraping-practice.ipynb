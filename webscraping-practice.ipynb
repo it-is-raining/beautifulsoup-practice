{
 "cells": [
  {
   "cell_type": "code",
   "execution_count": 12,
   "id": "0ab70807-27ee-479c-844f-3dfb3c2079a4",
   "metadata": {},
   "outputs": [
    {
     "data": {
      "text/plain": [
       "'<!DOCTYPE html>\\n<html lang=\"en\">\\n<head>\\n    <title>NPR : National Public Radio</title>\\n    <meta http-equiv=\"Content-Type\" content=\"text/html;charset=utf-8\">\\n    <meta name=\"viewport\" content=\"width=device-width\">\\n    <link id=\"favicon\" rel=\"shortcut icon\" type=\"image/png\" href=\"data:image/png;base64,iVBORw0KGgoAAAANSUhEUgAAABAAAAAQCAYAAAAf8/9hAAAAAXNSR0IArs4c6QAAAHlJREFUOBFjYBgFFIcA48cYpf/opvAv+YouxODXshZDbFONDSMLSJRv8V245KdYZTD7//8XcDFGRgkwe2O1NVzMv/UomA02AMQCaUQ2CCQG0ohsEEgMphHEBgEmCIWdRNeMTRXYBTBnw2iYQpjTYXx022Hio/RAhwAAjXEfJrIXnj4AAAAASUVORK5CYII=\">\\n    <style>\\n        body {\\n    display: block;\\n    padding: 0px 20px;\\n    max-width: 550px;\\n    margin: 0 auto;\\n    font-family: -apple-system, BlinkMacSystemFont, \"Segoe UI\", Roboto, Helvetica, Arial, sans-serif, \"Apple Color Emoji\", \"Segoe UI Emoji\", \"Segoe UI Symbol\";\\n}\\n\\n.full-version-link {\\n    margin-left: 15px;\\n}\\n\\n.slug-line {\\n    font-size: 1.1rem;\\n    margin-bottom: 15px;\\n}\\n\\n.hr-line {\\n    position: relative;\\n    height: 4px;\\n}\\n\\n.hr-line:after {\\n    background: linear-gradient(to right, #e60000 0%, #e60000 33.33%, #000000 33.33%, #000000 66.66%, #3366CC 66.66%);\\n    position: absolute;\\n    content: \\'\\';\\n    height: 4px;\\n    right: 0;\\n    left: 0;\\n    top: 0;\\n}\\n\\nhr.gray {\\n    border: .5px solid gray;\\n}\\n\\n.story-title {\\n    line-height: 2rem;\\n    font-size: 1.5rem;\\n    margin: 0;\\n}\\n\\n.topic-heading {\\n    line-height: 2rem;\\n    font-size: 1.5rem;\\n}\\n\\n.topic-container>ul {\\n    padding: 0;\\n    line-height: 1.4rem;\\n}\\n\\n.topic-container li {\\n    display: block;\\n    padding-bottom: 15px;\\n}\\n\\n.topic-container {\\n    margin-top: 20px;\\n}\\n\\n.topic-date {\\n    margin: 20px 0;\\n    font-style: italic;\\n}\\n\\n.paragraphs-container {\\n    line-height: 1.5rem;\\n}\\n\\n.button:link,\\n.button:visited {\\n    background-color: white;\\n    color: black;\\n    border: 2px solid black;\\n    padding: 4px 8px;\\n    text-align: center;\\n    text-decoration: none;\\n    display: inline-block;\\n}\\n\\n.button:hover,\\n.button:active {\\n    background-color: black;\\n    color: white;\\n}\\n\\n.lower-nav-container {\\n    margin-top: 40px;\\n}\\n\\n.lower-nav-container li {\\n    margin-left: 0;\\n    display: inline;\\n    padding-right: 20px;\\n}\\n\\nh6 {\\n  text-transform: uppercase;\\n}\\n\\n    </style>\\n</head>\\n\\n\\n<body>\\n<header>\\n  <p>Text-Only Version <a class=\"full-version-link button\" href=\"https://www.npr.org/\">Go To Full Site</a></p>\\n</header>\\n\\n\\n<main>\\n  <p>\\n    \\n  </p>\\n\\n  <div class=\"topic-container\">\\n    <h1 class=\"topic-heading\">NPR : National Public Radio</h1>\\n    <div class=\"hr-line\"></div>\\n    <p class=\"topic-date\">Wednesday, June 19, 2024</p>\\n    <ul>\\n      \\n        <li><a class=\"topic-title\" href=\"/nx-s1-5005972\">U.S. home prices have far outpaced paychecks. See what it looks like where you live</a></li>\\n      \\n        <li><a class=\"topic-title\" href=\"/g-s1-4833\">6 things Trump says at his rallies and what they really mean</a></li>\\n      \\n        <li><a class=\"topic-title\" href=\"/nx-s1-5010707\">As they enter their 60s, Gen Xers are projected to see cancer higher rates than Boomers</a></li>\\n      \\n        <li><a class=\"topic-title\" href=\"/nx-s1-4996445\">What will marriage look like in the future?</a></li>\\n      \\n        <li><a class=\"topic-title\" href=\"/nx-s1-5002183\">NPR staffers pick their favorite fiction reads of 2024</a></li>\\n      \\n        <li><a class=\"topic-title\" href=\"/nx-s1-5009924\">Centuries-old cherries were found at George Washington\\'s home. What can they tell us?</a></li>\\n      \\n        <li><a class=\"topic-title\" href=\"/nx-s1-5013295\">Summer officially arrives with the earliest solstice in more than 2 centuries</a></li>\\n      \\n        <li><a class=\"topic-title\" href=\"/nx-s1-5012595\">2 climate activists were arrested after spraying orange paint on Stonehenge</a></li>\\n      \\n        <li><a class=\"topic-title\" href=\"/g-s1-5075\">It’s called an urgent care emergency center — but which is it? The price difference can be huge</a></li>\\n      \\n        <li><a class=\"topic-title\" href=\"/1234569831\">Freddie Gibbs and Madlib: Tiny Desk Concert\\r\\n\\r\\n</a></li>\\n      \\n        <li><a class=\"topic-title\" href=\"/nx-s1-5013074\">Russia wages a scorched-earth war in Ukraine with retrofitted bombs and new airstrips</a></li>\\n      \\n        <li><a class=\"topic-title\" href=\"/nx-s1-5009271\">A supermarket trip may soon look different, thanks to electronic shelf labels</a></li>\\n      \\n        <li><a class=\"topic-title\" href=\"/g-s1-1266\">The Supreme Court leaves a Trump-era offshore tax in place on investors</a></li>\\n      \\n        <li><a class=\"topic-title\" href=\"/g-s1-4771\">Howard Blatt, a stroke survivor who co-founded an aphasia support group, died at 88</a></li>\\n      \\n        <li><a class=\"topic-title\" href=\"/nx-s1-5008714\">2 books offer just the right summer mix of humor and nostalgia</a></li>\\n      \\n        <li><a class=\"topic-title\" href=\"/nx-s1-4991945\">A data tool being used to challenge voter registrations is raising many concerns</a></li>\\n      \\n        <li><a class=\"topic-title\" href=\"/nx-s1-4998858\">She\\'s turning her home into a child care site. It may solve a big problem in Alabama</a></li>\\n      \\n        <li><a class=\"topic-title\" href=\"/nx-s1-5012597\">Louisiana will require that the 10 Commandments be displayed in every public school classroom</a></li>\\n      \\n        <li><a class=\"topic-title\" href=\"/nx-s1-5013432\">Putin signs numerous deals with Vietnam in a bid to shore up Russia\\'s ties in Asia</a></li>\\n      \\n        <li><a class=\"topic-title\" href=\"/nx-s1-5012304\">Millions of Americans are under heat advisories as high temperatures roast the U.S.</a></li>\\n      \\n    </ul>\\n  </div>\\n</main>\\n\\n\\n<div class=\"hr-line\"></div>\\n<nav>\\n<p>Topics</p>\\n<ul>\\n    <li><a href=\"/1001\">News</a></li>\\n    <li><a href=\"/1008\">Culture</a></li>\\n    <li><a href=\"/1039\">Music</a></li>\\n</ul>\\n</nav>\\n\\n\\n<footer>\\n  <nav class=\"lower-nav-container\">\\n    <li><a href=\"/614470770\">Contact Us</a></li>\\n    <li><a href=\"/179876898\">Terms of Use</a></li>\\n    <li><a href=\"/179881519\">Permissions</a></li>\\n    <li><a href=\"/179878450\">Privacy Policy</a></li>\\n  </nav>\\n\\n  <p>&copy NPR</p>\\n</footer>\\n\\n</body>\\n</html>\\n'"
      ]
     },
     "execution_count": 12,
     "metadata": {},
     "output_type": "execute_result"
    }
   ],
   "source": [
    "import requests\n",
    "html = requests.get(\"https://text.npr.org/\").text\n",
    "html"
   ]
  },
  {
   "cell_type": "code",
   "execution_count": 13,
   "id": "794ac2f4-af0e-40bc-a17d-73bd4424852d",
   "metadata": {},
   "outputs": [],
   "source": [
    "from bs4 import BeautifulSoup"
   ]
  },
  {
   "cell_type": "code",
   "execution_count": 14,
   "id": "a3c51251-e629-4884-9632-83602e801443",
   "metadata": {},
   "outputs": [],
   "source": [
    "soup = BeautifulSoup(html) "
   ]
  },
  {
   "cell_type": "code",
   "execution_count": 16,
   "id": "b811c0a2-cb2a-4c28-a079-a4ed55f146db",
   "metadata": {},
   "outputs": [
    {
     "data": {
      "text/plain": [
       "bs4.BeautifulSoup"
      ]
     },
     "execution_count": 16,
     "metadata": {},
     "output_type": "execute_result"
    }
   ],
   "source": [
    "type(soup)"
   ]
  },
  {
   "cell_type": "code",
   "execution_count": 17,
   "id": "badf032f-253c-434e-9654-719ddce5c88f",
   "metadata": {},
   "outputs": [
    {
     "data": {
      "text/plain": [
       "28"
      ]
     },
     "execution_count": 17,
     "metadata": {},
     "output_type": "execute_result"
    }
   ],
   "source": [
    "links = soup.select(\"a\")\n",
    "len(links)"
   ]
  },
  {
   "cell_type": "code",
   "execution_count": 18,
   "id": "5c88e90e-8503-4bab-bc90-ca898b8a15a1",
   "metadata": {},
   "outputs": [
    {
     "name": "stdout",
     "output_type": "stream",
     "text": [
      "Go To Full Site\n",
      "----\n",
      "U.S. home prices have far outpaced paychecks. See what it looks like where you live\n",
      "----\n",
      "6 things Trump says at his rallies and what they really mean\n",
      "----\n",
      "As they enter their 60s, Gen Xers are projected to see cancer higher rates than Boomers\n",
      "----\n",
      "What will marriage look like in the future?\n",
      "----\n",
      "NPR staffers pick their favorite fiction reads of 2024\n",
      "----\n",
      "Centuries-old cherries were found at George Washington's home. What can they tell us?\n",
      "----\n",
      "Summer officially arrives with the earliest solstice in more than 2 centuries\n",
      "----\n",
      "2 climate activists were arrested after spraying orange paint on Stonehenge\n",
      "----\n",
      "It’s called an urgent care emergency center — but which is it? The price difference can be huge\n",
      "----\n",
      "Freddie Gibbs and Madlib: Tiny Desk Concert\n",
      "----\n",
      "Russia wages a scorched-earth war in Ukraine with retrofitted bombs and new airstrips\n",
      "----\n",
      "A supermarket trip may soon look different, thanks to electronic shelf labels\n",
      "----\n",
      "The Supreme Court leaves a Trump-era offshore tax in place on investors\n",
      "----\n",
      "Howard Blatt, a stroke survivor who co-founded an aphasia support group, died at 88\n",
      "----\n",
      "2 books offer just the right summer mix of humor and nostalgia\n",
      "----\n",
      "A data tool being used to challenge voter registrations is raising many concerns\n",
      "----\n",
      "She's turning her home into a child care site. It may solve a big problem in Alabama\n",
      "----\n",
      "Louisiana will require that the 10 Commandments be displayed in every public school classroom\n",
      "----\n",
      "Putin signs numerous deals with Vietnam in a bid to shore up Russia's ties in Asia\n",
      "----\n",
      "Millions of Americans are under heat advisories as high temperatures roast the U.S.\n",
      "----\n",
      "News\n",
      "----\n",
      "Culture\n",
      "----\n",
      "Music\n",
      "----\n",
      "Contact Us\n",
      "----\n",
      "Terms of Use\n",
      "----\n",
      "Permissions\n",
      "----\n",
      "Privacy Policy\n",
      "----\n"
     ]
    }
   ],
   "source": [
    "#to only get titles\n",
    "for link in links:\n",
    "    print (link.text.strip())\n",
    "    print(\"----\")"
   ]
  },
  {
   "cell_type": "code",
   "execution_count": 19,
   "id": "6ee6c2a1-6ce0-4cdb-b580-211968cef18a",
   "metadata": {},
   "outputs": [
    {
     "data": {
      "text/plain": [
       "20"
      ]
     },
     "execution_count": 19,
     "metadata": {},
     "output_type": "execute_result"
    }
   ],
   "source": [
    "#what if we want just the links to articles?\n",
    "article_links = soup.select(\"a.topic-title\")\n",
    "len(article_links)"
   ]
  },
  {
   "cell_type": "code",
   "execution_count": 20,
   "id": "92104395-fd37-4ac9-b277-ce4fc597edc7",
   "metadata": {},
   "outputs": [
    {
     "name": "stdout",
     "output_type": "stream",
     "text": [
      "U.S. home prices have far outpaced paychecks. See what it looks like where you live\n",
      "----\n",
      "6 things Trump says at his rallies and what they really mean\n",
      "----\n",
      "As they enter their 60s, Gen Xers are projected to see cancer higher rates than Boomers\n",
      "----\n",
      "What will marriage look like in the future?\n",
      "----\n",
      "NPR staffers pick their favorite fiction reads of 2024\n",
      "----\n",
      "Centuries-old cherries were found at George Washington's home. What can they tell us?\n",
      "----\n",
      "Summer officially arrives with the earliest solstice in more than 2 centuries\n",
      "----\n",
      "2 climate activists were arrested after spraying orange paint on Stonehenge\n",
      "----\n",
      "It’s called an urgent care emergency center — but which is it? The price difference can be huge\n",
      "----\n",
      "Freddie Gibbs and Madlib: Tiny Desk Concert\n",
      "----\n",
      "Russia wages a scorched-earth war in Ukraine with retrofitted bombs and new airstrips\n",
      "----\n",
      "A supermarket trip may soon look different, thanks to electronic shelf labels\n",
      "----\n",
      "The Supreme Court leaves a Trump-era offshore tax in place on investors\n",
      "----\n",
      "Howard Blatt, a stroke survivor who co-founded an aphasia support group, died at 88\n",
      "----\n",
      "2 books offer just the right summer mix of humor and nostalgia\n",
      "----\n",
      "A data tool being used to challenge voter registrations is raising many concerns\n",
      "----\n",
      "She's turning her home into a child care site. It may solve a big problem in Alabama\n",
      "----\n",
      "Louisiana will require that the 10 Commandments be displayed in every public school classroom\n",
      "----\n",
      "Putin signs numerous deals with Vietnam in a bid to shore up Russia's ties in Asia\n",
      "----\n",
      "Millions of Americans are under heat advisories as high temperatures roast the U.S.\n",
      "----\n"
     ]
    }
   ],
   "source": [
    "#we are using \"text\" to get the info out /printed\n",
    "#\"strip\" removes extra white space and beginning & end of string\n",
    "\n",
    "for link in article_links:\n",
    "    print(link.text.strip())\n",
    "    print(\"----\")"
   ]
  },
  {
   "cell_type": "code",
   "execution_count": 22,
   "id": "b8ad80bd-bf30-4d51-a96e-57377ac8cc6e",
   "metadata": {},
   "outputs": [
    {
     "name": "stdout",
     "output_type": "stream",
     "text": [
      "/nx-s1-5005972\n",
      "-----\n",
      "/g-s1-4833\n",
      "-----\n",
      "/nx-s1-5010707\n",
      "-----\n",
      "/nx-s1-4996445\n",
      "-----\n",
      "/nx-s1-5002183\n",
      "-----\n",
      "/nx-s1-5009924\n",
      "-----\n",
      "/nx-s1-5013295\n",
      "-----\n",
      "/nx-s1-5012595\n",
      "-----\n",
      "/g-s1-5075\n",
      "-----\n",
      "/1234569831\n",
      "-----\n",
      "/nx-s1-5013074\n",
      "-----\n",
      "/nx-s1-5009271\n",
      "-----\n",
      "/g-s1-1266\n",
      "-----\n",
      "/g-s1-4771\n",
      "-----\n",
      "/nx-s1-5008714\n",
      "-----\n",
      "/nx-s1-4991945\n",
      "-----\n",
      "/nx-s1-4998858\n",
      "-----\n",
      "/nx-s1-5012597\n",
      "-----\n",
      "/nx-s1-5013432\n",
      "-----\n",
      "/nx-s1-5012304\n",
      "-----\n"
     ]
    }
   ],
   "source": [
    "for link in article_links:\n",
    "    print(link['href'])\n",
    "    print(\"-----\")\n",
    "\n",
    "#But this is only the link appendage - so need to add the page uRL"
   ]
  },
  {
   "cell_type": "code",
   "execution_count": 23,
   "id": "ea8acb24-392b-4c43-b7e5-cb0cbbadc05a",
   "metadata": {},
   "outputs": [
    {
     "name": "stdout",
     "output_type": "stream",
     "text": [
      "https://text.npr.org//nx-s1-5005972\n",
      "-----\n",
      "https://text.npr.org//g-s1-4833\n",
      "-----\n",
      "https://text.npr.org//nx-s1-5010707\n",
      "-----\n",
      "https://text.npr.org//nx-s1-4996445\n",
      "-----\n",
      "https://text.npr.org//nx-s1-5002183\n",
      "-----\n",
      "https://text.npr.org//nx-s1-5009924\n",
      "-----\n",
      "https://text.npr.org//nx-s1-5013295\n",
      "-----\n",
      "https://text.npr.org//nx-s1-5012595\n",
      "-----\n",
      "https://text.npr.org//g-s1-5075\n",
      "-----\n",
      "https://text.npr.org//1234569831\n",
      "-----\n",
      "https://text.npr.org//nx-s1-5013074\n",
      "-----\n",
      "https://text.npr.org//nx-s1-5009271\n",
      "-----\n",
      "https://text.npr.org//g-s1-1266\n",
      "-----\n",
      "https://text.npr.org//g-s1-4771\n",
      "-----\n",
      "https://text.npr.org//nx-s1-5008714\n",
      "-----\n",
      "https://text.npr.org//nx-s1-4991945\n",
      "-----\n",
      "https://text.npr.org//nx-s1-4998858\n",
      "-----\n",
      "https://text.npr.org//nx-s1-5012597\n",
      "-----\n",
      "https://text.npr.org//nx-s1-5013432\n",
      "-----\n",
      "https://text.npr.org//nx-s1-5012304\n",
      "-----\n"
     ]
    }
   ],
   "source": [
    "for link in article_links:\n",
    "    print(\"https://text.npr.org/\" + link['href'])\n",
    "    print(\"-----\")"
   ]
  },
  {
   "cell_type": "code",
   "execution_count": 24,
   "id": "507882bf-607e-4124-b291-bb6019225a32",
   "metadata": {},
   "outputs": [],
   "source": [
    "#How would we make this into a pandas dataframe? - we're bringing it into pandas so we can do some data manipulation \n",
    "#e.g. search for every article that has the word \"America\" in it\n",
    "import pandas as pd"
   ]
  },
  {
   "cell_type": "code",
   "execution_count": 25,
   "id": "a31986d0-6bd0-4a5f-b64a-ed6185f59c6c",
   "metadata": {},
   "outputs": [
    {
     "data": {
      "text/html": [
       "<div>\n",
       "<style scoped>\n",
       "    .dataframe tbody tr th:only-of-type {\n",
       "        vertical-align: middle;\n",
       "    }\n",
       "\n",
       "    .dataframe tbody tr th {\n",
       "        vertical-align: top;\n",
       "    }\n",
       "\n",
       "    .dataframe thead th {\n",
       "        text-align: right;\n",
       "    }\n",
       "</style>\n",
       "<table border=\"1\" class=\"dataframe\">\n",
       "  <thead>\n",
       "    <tr style=\"text-align: right;\">\n",
       "      <th></th>\n",
       "      <th>text</th>\n",
       "      <th>url</th>\n",
       "    </tr>\n",
       "  </thead>\n",
       "  <tbody>\n",
       "    <tr>\n",
       "      <th>0</th>\n",
       "      <td>U.S. home prices have far outpaced paychecks. ...</td>\n",
       "      <td>https://text.npr.org/nx-s1-5005972</td>\n",
       "    </tr>\n",
       "    <tr>\n",
       "      <th>1</th>\n",
       "      <td>6 things Trump says at his rallies and what th...</td>\n",
       "      <td>https://text.npr.org/g-s1-4833</td>\n",
       "    </tr>\n",
       "    <tr>\n",
       "      <th>2</th>\n",
       "      <td>As they enter their 60s, Gen Xers are projecte...</td>\n",
       "      <td>https://text.npr.org/nx-s1-5010707</td>\n",
       "    </tr>\n",
       "    <tr>\n",
       "      <th>3</th>\n",
       "      <td>What will marriage look like in the future?</td>\n",
       "      <td>https://text.npr.org/nx-s1-4996445</td>\n",
       "    </tr>\n",
       "    <tr>\n",
       "      <th>4</th>\n",
       "      <td>NPR staffers pick their favorite fiction reads...</td>\n",
       "      <td>https://text.npr.org/nx-s1-5002183</td>\n",
       "    </tr>\n",
       "    <tr>\n",
       "      <th>5</th>\n",
       "      <td>Centuries-old cherries were found at George Wa...</td>\n",
       "      <td>https://text.npr.org/nx-s1-5009924</td>\n",
       "    </tr>\n",
       "    <tr>\n",
       "      <th>6</th>\n",
       "      <td>Summer officially arrives with the earliest so...</td>\n",
       "      <td>https://text.npr.org/nx-s1-5013295</td>\n",
       "    </tr>\n",
       "    <tr>\n",
       "      <th>7</th>\n",
       "      <td>2 climate activists were arrested after sprayi...</td>\n",
       "      <td>https://text.npr.org/nx-s1-5012595</td>\n",
       "    </tr>\n",
       "    <tr>\n",
       "      <th>8</th>\n",
       "      <td>It’s called an urgent care emergency center — ...</td>\n",
       "      <td>https://text.npr.org/g-s1-5075</td>\n",
       "    </tr>\n",
       "    <tr>\n",
       "      <th>9</th>\n",
       "      <td>Freddie Gibbs and Madlib: Tiny Desk Concert</td>\n",
       "      <td>https://text.npr.org/1234569831</td>\n",
       "    </tr>\n",
       "    <tr>\n",
       "      <th>10</th>\n",
       "      <td>Russia wages a scorched-earth war in Ukraine w...</td>\n",
       "      <td>https://text.npr.org/nx-s1-5013074</td>\n",
       "    </tr>\n",
       "    <tr>\n",
       "      <th>11</th>\n",
       "      <td>A supermarket trip may soon look different, th...</td>\n",
       "      <td>https://text.npr.org/nx-s1-5009271</td>\n",
       "    </tr>\n",
       "    <tr>\n",
       "      <th>12</th>\n",
       "      <td>The Supreme Court leaves a Trump-era offshore ...</td>\n",
       "      <td>https://text.npr.org/g-s1-1266</td>\n",
       "    </tr>\n",
       "    <tr>\n",
       "      <th>13</th>\n",
       "      <td>Howard Blatt, a stroke survivor who co-founded...</td>\n",
       "      <td>https://text.npr.org/g-s1-4771</td>\n",
       "    </tr>\n",
       "    <tr>\n",
       "      <th>14</th>\n",
       "      <td>2 books offer just the right summer mix of hum...</td>\n",
       "      <td>https://text.npr.org/nx-s1-5008714</td>\n",
       "    </tr>\n",
       "    <tr>\n",
       "      <th>15</th>\n",
       "      <td>A data tool being used to challenge voter regi...</td>\n",
       "      <td>https://text.npr.org/nx-s1-4991945</td>\n",
       "    </tr>\n",
       "    <tr>\n",
       "      <th>16</th>\n",
       "      <td>She's turning her home into a child care site....</td>\n",
       "      <td>https://text.npr.org/nx-s1-4998858</td>\n",
       "    </tr>\n",
       "    <tr>\n",
       "      <th>17</th>\n",
       "      <td>Louisiana will require that the 10 Commandment...</td>\n",
       "      <td>https://text.npr.org/nx-s1-5012597</td>\n",
       "    </tr>\n",
       "    <tr>\n",
       "      <th>18</th>\n",
       "      <td>Putin signs numerous deals with Vietnam in a b...</td>\n",
       "      <td>https://text.npr.org/nx-s1-5013432</td>\n",
       "    </tr>\n",
       "    <tr>\n",
       "      <th>19</th>\n",
       "      <td>Millions of Americans are under heat advisorie...</td>\n",
       "      <td>https://text.npr.org/nx-s1-5012304</td>\n",
       "    </tr>\n",
       "  </tbody>\n",
       "</table>\n",
       "</div>"
      ],
      "text/plain": [
       "                                                 text  \\\n",
       "0   U.S. home prices have far outpaced paychecks. ...   \n",
       "1   6 things Trump says at his rallies and what th...   \n",
       "2   As they enter their 60s, Gen Xers are projecte...   \n",
       "3         What will marriage look like in the future?   \n",
       "4   NPR staffers pick their favorite fiction reads...   \n",
       "5   Centuries-old cherries were found at George Wa...   \n",
       "6   Summer officially arrives with the earliest so...   \n",
       "7   2 climate activists were arrested after sprayi...   \n",
       "8   It’s called an urgent care emergency center — ...   \n",
       "9         Freddie Gibbs and Madlib: Tiny Desk Concert   \n",
       "10  Russia wages a scorched-earth war in Ukraine w...   \n",
       "11  A supermarket trip may soon look different, th...   \n",
       "12  The Supreme Court leaves a Trump-era offshore ...   \n",
       "13  Howard Blatt, a stroke survivor who co-founded...   \n",
       "14  2 books offer just the right summer mix of hum...   \n",
       "15  A data tool being used to challenge voter regi...   \n",
       "16  She's turning her home into a child care site....   \n",
       "17  Louisiana will require that the 10 Commandment...   \n",
       "18  Putin signs numerous deals with Vietnam in a b...   \n",
       "19  Millions of Americans are under heat advisorie...   \n",
       "\n",
       "                                   url  \n",
       "0   https://text.npr.org/nx-s1-5005972  \n",
       "1       https://text.npr.org/g-s1-4833  \n",
       "2   https://text.npr.org/nx-s1-5010707  \n",
       "3   https://text.npr.org/nx-s1-4996445  \n",
       "4   https://text.npr.org/nx-s1-5002183  \n",
       "5   https://text.npr.org/nx-s1-5009924  \n",
       "6   https://text.npr.org/nx-s1-5013295  \n",
       "7   https://text.npr.org/nx-s1-5012595  \n",
       "8       https://text.npr.org/g-s1-5075  \n",
       "9      https://text.npr.org/1234569831  \n",
       "10  https://text.npr.org/nx-s1-5013074  \n",
       "11  https://text.npr.org/nx-s1-5009271  \n",
       "12      https://text.npr.org/g-s1-1266  \n",
       "13      https://text.npr.org/g-s1-4771  \n",
       "14  https://text.npr.org/nx-s1-5008714  \n",
       "15  https://text.npr.org/nx-s1-4991945  \n",
       "16  https://text.npr.org/nx-s1-4998858  \n",
       "17  https://text.npr.org/nx-s1-5012597  \n",
       "18  https://text.npr.org/nx-s1-5013432  \n",
       "19  https://text.npr.org/nx-s1-5012304  "
      ]
     },
     "execution_count": 25,
     "metadata": {},
     "output_type": "execute_result"
    }
   ],
   "source": [
    "#list comprehension  - AKA a \"condensed for loop\", of sorts\n",
    "\n",
    "article_links_df = pd.DataFrame([ {\n",
    "    \"text\": link.text.strip(),\n",
    "    \"url\": \"https://text.npr.org\" + link[\"href\"]\n",
    "} for link in article_links ])\n",
    "\n",
    "article_links_df"
   ]
  },
  {
   "cell_type": "code",
   "execution_count": 26,
   "id": "4508803a-444b-4c6b-8f7d-5527013bb3e7",
   "metadata": {},
   "outputs": [
    {
     "data": {
      "text/plain": [
       "[{'text': 'U.S. home prices have far outpaced paychecks. See what it looks like where you live',\n",
       "  'url': 'https://text.npr.org/nx-s1-5005972'},\n",
       " {'text': '6 things Trump says at his rallies and what they really mean',\n",
       "  'url': 'https://text.npr.org/g-s1-4833'},\n",
       " {'text': 'As they enter their 60s, Gen Xers are projected to see cancer higher rates than Boomers',\n",
       "  'url': 'https://text.npr.org/nx-s1-5010707'},\n",
       " {'text': 'What will marriage look like in the future?',\n",
       "  'url': 'https://text.npr.org/nx-s1-4996445'},\n",
       " {'text': 'NPR staffers pick their favorite fiction reads of 2024',\n",
       "  'url': 'https://text.npr.org/nx-s1-5002183'},\n",
       " {'text': \"Centuries-old cherries were found at George Washington's home. What can they tell us?\",\n",
       "  'url': 'https://text.npr.org/nx-s1-5009924'},\n",
       " {'text': 'Summer officially arrives with the earliest solstice in more than 2 centuries',\n",
       "  'url': 'https://text.npr.org/nx-s1-5013295'},\n",
       " {'text': '2 climate activists were arrested after spraying orange paint on Stonehenge',\n",
       "  'url': 'https://text.npr.org/nx-s1-5012595'},\n",
       " {'text': 'It’s called an urgent care emergency center — but which is it? The price difference can be huge',\n",
       "  'url': 'https://text.npr.org/g-s1-5075'},\n",
       " {'text': 'Freddie Gibbs and Madlib: Tiny Desk Concert',\n",
       "  'url': 'https://text.npr.org/1234569831'},\n",
       " {'text': 'Russia wages a scorched-earth war in Ukraine with retrofitted bombs and new airstrips',\n",
       "  'url': 'https://text.npr.org/nx-s1-5013074'},\n",
       " {'text': 'A supermarket trip may soon look different, thanks to electronic shelf labels',\n",
       "  'url': 'https://text.npr.org/nx-s1-5009271'},\n",
       " {'text': 'The Supreme Court leaves a Trump-era offshore tax in place on investors',\n",
       "  'url': 'https://text.npr.org/g-s1-1266'},\n",
       " {'text': 'Howard Blatt, a stroke survivor who co-founded an aphasia support group, died at 88',\n",
       "  'url': 'https://text.npr.org/g-s1-4771'},\n",
       " {'text': '2 books offer just the right summer mix of humor and nostalgia',\n",
       "  'url': 'https://text.npr.org/nx-s1-5008714'},\n",
       " {'text': 'A data tool being used to challenge voter registrations is raising many concerns',\n",
       "  'url': 'https://text.npr.org/nx-s1-4991945'},\n",
       " {'text': \"She's turning her home into a child care site. It may solve a big problem in Alabama\",\n",
       "  'url': 'https://text.npr.org/nx-s1-4998858'},\n",
       " {'text': 'Louisiana will require that the 10 Commandments be displayed in every public school classroom',\n",
       "  'url': 'https://text.npr.org/nx-s1-5012597'},\n",
       " {'text': \"Putin signs numerous deals with Vietnam in a bid to shore up Russia's ties in Asia\",\n",
       "  'url': 'https://text.npr.org/nx-s1-5013432'},\n",
       " {'text': 'Millions of Americans are under heat advisories as high temperatures roast the U.S.',\n",
       "  'url': 'https://text.npr.org/nx-s1-5012304'}]"
      ]
     },
     "execution_count": 26,
     "metadata": {},
     "output_type": "execute_result"
    }
   ],
   "source": [
    "#the list comprehension is another version of this for loop:\n",
    "article_links_list = []\n",
    "\n",
    "for link in article_links:\n",
    "    item_data = {\n",
    "        \"text\": link.text.strip(),\n",
    "        \"url\": \"https://text.npr.org\" + link[\"href\"]\n",
    "    }\n",
    "    article_links_list.append(item_data)\n",
    "\n",
    "article_links_list"
   ]
  },
  {
   "cell_type": "code",
   "execution_count": null,
   "id": "5255256c-d47a-423a-a9bf-42a5646906a0",
   "metadata": {},
   "outputs": [],
   "source": []
  }
 ],
 "metadata": {
  "kernelspec": {
   "display_name": "Python 3 (ipykernel)",
   "language": "python",
   "name": "python3"
  },
  "language_info": {
   "codemirror_mode": {
    "name": "ipython",
    "version": 3
   },
   "file_extension": ".py",
   "mimetype": "text/x-python",
   "name": "python",
   "nbconvert_exporter": "python",
   "pygments_lexer": "ipython3",
   "version": "3.11.9"
  }
 },
 "nbformat": 4,
 "nbformat_minor": 5
}
